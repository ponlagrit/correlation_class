{
  "cells": [
    {
      "cell_type": "markdown",
      "source": [
        "# **Correlation analysis in R**"
      ],
      "metadata": {
        "id": "tkDlGFvmeAYN"
      }
    },
    {
      "cell_type": "markdown",
      "source": [
        "Correlation quantifies the degree to which two variables are connected or related. Essentially, it helps us understand which variables change together in a similar manner, which change in opposite directions, and which ones don't have a noticeable relationship."
      ],
      "metadata": {
        "id": "Le60O5uleMff"
      }
    },
    {
      "cell_type": "markdown",
      "source": [
        "In this module, I'll demonstrate how to calculate correlation coefficients, conduct tests to evaluate these correlations, and visually represent the interconnections between variables using the R programming language."
      ],
      "metadata": {
        "id": "CV0HNR9ievA9"
      }
    },
    {
      "cell_type": "code",
      "execution_count": 1,
      "metadata": {
        "colab": {
          "base_uri": "https://localhost:8080/"
        },
        "id": "v0Ml_aqzsAsC",
        "outputId": "c59c7b04-4374-48d8-c24e-96c8124a4e0d"
      },
      "outputs": [
        {
          "output_type": "stream",
          "name": "stderr",
          "text": [
            "Installing package into ‘/usr/local/lib/R/site-library’\n",
            "(as ‘lib’ is unspecified)\n",
            "\n",
            "Installing package into ‘/usr/local/lib/R/site-library’\n",
            "(as ‘lib’ is unspecified)\n",
            "\n",
            "also installing the dependencies ‘numDeriv’, ‘SparseM’, ‘MatrixModels’, ‘minqa’, ‘nloptr’, ‘RcppEigen’, ‘carData’, ‘abind’, ‘pbkrtest’, ‘quantreg’, ‘lme4’, ‘Rcpp’, ‘corrplot’, ‘car’, ‘ggrepel’, ‘ggsci’, ‘cowplot’, ‘ggsignif’, ‘gridExtra’, ‘polynom’, ‘rstatix’\n",
            "\n",
            "\n"
          ]
        }
      ],
      "source": [
        "install.packages(\"mlbench\")\n",
        "install.packages(\"ggpubr\")"
      ]
    },
    {
      "cell_type": "code",
      "source": [
        "install.packages(\"EnvStats\")"
      ],
      "metadata": {
        "colab": {
          "base_uri": "https://localhost:8080/"
        },
        "id": "MW9Ihgh7weJi",
        "outputId": "5e667409-53fb-45bf-d6f4-b082f30216df"
      },
      "execution_count": 10,
      "outputs": [
        {
          "output_type": "stream",
          "name": "stderr",
          "text": [
            "Installing package into ‘/usr/local/lib/R/site-library’\n",
            "(as ‘lib’ is unspecified)\n",
            "\n",
            "also installing the dependency ‘nortest’\n",
            "\n",
            "\n"
          ]
        }
      ]
    },
    {
      "cell_type": "code",
      "execution_count": 2,
      "metadata": {
        "colab": {
          "base_uri": "https://localhost:8080/"
        },
        "id": "CzwFckZemDo_",
        "outputId": "80b534f7-f1e7-4a24-fa0a-319bd0ac0e8e"
      },
      "outputs": [
        {
          "output_type": "stream",
          "name": "stderr",
          "text": [
            "── \u001b[1mAttaching core tidyverse packages\u001b[22m ──────────────────────── tidyverse 2.0.0 ──\n",
            "\u001b[32m✔\u001b[39m \u001b[34mdplyr    \u001b[39m 1.1.2     \u001b[32m✔\u001b[39m \u001b[34mreadr    \u001b[39m 2.1.4\n",
            "\u001b[32m✔\u001b[39m \u001b[34mforcats  \u001b[39m 1.0.0     \u001b[32m✔\u001b[39m \u001b[34mstringr  \u001b[39m 1.5.0\n",
            "\u001b[32m✔\u001b[39m \u001b[34mggplot2  \u001b[39m 3.4.3     \u001b[32m✔\u001b[39m \u001b[34mtibble   \u001b[39m 3.2.1\n",
            "\u001b[32m✔\u001b[39m \u001b[34mlubridate\u001b[39m 1.9.2     \u001b[32m✔\u001b[39m \u001b[34mtidyr    \u001b[39m 1.3.0\n",
            "\u001b[32m✔\u001b[39m \u001b[34mpurrr    \u001b[39m 1.0.2     \n",
            "── \u001b[1mConflicts\u001b[22m ────────────────────────────────────────── tidyverse_conflicts() ──\n",
            "\u001b[31m✖\u001b[39m \u001b[34mdplyr\u001b[39m::\u001b[32mfilter()\u001b[39m masks \u001b[34mstats\u001b[39m::filter()\n",
            "\u001b[31m✖\u001b[39m \u001b[34mdplyr\u001b[39m::\u001b[32mlag()\u001b[39m    masks \u001b[34mstats\u001b[39m::lag()\n",
            "\u001b[36mℹ\u001b[39m Use the conflicted package (\u001b[3m\u001b[34m<http://conflicted.r-lib.org/>\u001b[39m\u001b[23m) to force all conflicts to become errors\n"
          ]
        }
      ],
      "source": [
        "library(mlbench)\n",
        "library(tidyverse)\n",
        "library(ggpubr)"
      ]
    },
    {
      "cell_type": "code",
      "source": [
        "library(EnvStats)"
      ],
      "metadata": {
        "colab": {
          "base_uri": "https://localhost:8080/"
        },
        "id": "yrLwsb0EwJ0j",
        "outputId": "187a3f36-abfd-4350-f318-14d67fc14888"
      },
      "execution_count": 11,
      "outputs": [
        {
          "output_type": "stream",
          "name": "stderr",
          "text": [
            "\n",
            "Attaching package: ‘EnvStats’\n",
            "\n",
            "\n",
            "The following objects are masked from ‘package:stats’:\n",
            "\n",
            "    predict, predict.lm\n",
            "\n",
            "\n"
          ]
        }
      ]
    },
    {
      "cell_type": "markdown",
      "source": [
        "## **Methods for correlation analyses**"
      ],
      "metadata": {
        "id": "sjr3nwNbfMzt"
      }
    },
    {
      "cell_type": "markdown",
      "source": [
        "*   Pearson correlation (parametric data)\n",
        "*   Kendall tau (non-parametric data)\n",
        "*   Spearman rho (non-parametric data)"
      ],
      "metadata": {
        "id": "gzL0kwWZf1U0"
      }
    },
    {
      "cell_type": "markdown",
      "source": [
        "**In the formula below**,\n",
        "\n",
        "x and y are 2 vectors of continuous variables.\n",
        "$\\bar{x} = mean_x$ and\n",
        "$\\bar{y}= mean_y$"
      ],
      "metadata": {
        "id": "VeaWPW3GgNT6"
      }
    },
    {
      "cell_type": "markdown",
      "source": [
        "## **Pearson correlation**"
      ],
      "metadata": {
        "id": "JF0wXA80lxkm"
      }
    },
    {
      "cell_type": "markdown",
      "source": [
        "$$\n",
        "r = \\frac{\\sum{(x - \\bar{x})(y - \\bar{y})}}{\\sqrt{\\sum{(x - \\bar{x})^2}\\sum{(y - \\bar{y})^2}}}\n",
        "$$"
      ],
      "metadata": {
        "id": "i3jy7TzJfPYv"
      }
    },
    {
      "cell_type": "markdown",
      "source": [
        "The P value of the correlation can be determined by using the correlation coefficient table for [the degrees of freedom](https://faculty.washington.edu/heagerty/Books/Biostatistics/TABLES/t-Tables/) : **df=n−2**\n",
        ", where n is the number of observation in x and y variables or by calculating the **t value **as follow:"
      ],
      "metadata": {
        "id": "-20LF1I-mH3P"
      }
    },
    {
      "cell_type": "markdown",
      "source": [
        "$$\n",
        "t = \\frac{r\\sqrt{n-2}}{\\sqrt{1-r^2}}\n",
        "$$"
      ],
      "metadata": {
        "id": "bR6NJ7r4mZCw"
      }
    },
    {
      "cell_type": "markdown",
      "source": [
        "<font color='red'>If the p-value is < 5%, then the correlation between x and y is significant.</font>"
      ],
      "metadata": {
        "id": "8Ag18FPkpONv"
      }
    },
    {
      "cell_type": "markdown",
      "source": [
        "## **Spearman correlation**"
      ],
      "metadata": {
        "id": "YyHeG4JgqCPf"
      }
    },
    {
      "cell_type": "markdown",
      "source": [
        "The Spearman correlation method computes the correlation between the rank of x and the rank of y variables."
      ],
      "metadata": {
        "id": "_fsxGhDBqvw8"
      }
    },
    {
      "cell_type": "markdown",
      "source": [
        "$$\n",
        "r = \\frac{\\sum(x' - m_{x'}) (y'_{i} - m_{y'})}{\\sqrt{\\sum (x' - m_{x'})^2 \\sum (y' - m_{y'})^2}}\n",
        "$$"
      ],
      "metadata": {
        "id": "erCds7JwsENZ"
      }
    },
    {
      "cell_type": "markdown",
      "source": [
        "Where x' is rank of x and y' is rank of y; the smallest one is rank 1."
      ],
      "metadata": {
        "id": "2MtLwsMUsMQi"
      }
    },
    {
      "cell_type": "markdown",
      "source": [
        "## **Kendall correlation**"
      ],
      "metadata": {
        "id": "8oeXScYds94I"
      }
    },
    {
      "cell_type": "markdown",
      "source": [
        "The Kendall correlation method measures the correspondence between the ranking of x and y variables. The total number of possible pairings of x with y observations is n(n−1)/2\n",
        ", where n is the size of x and y.\n",
        "\n",
        "The procedure is as follow:\n",
        "\n",
        "Begin by ordering the pairs by the x values. If x and y are correlated, then they would have the same relative rank orders.\n",
        "\n",
        "Now, for each $y_i$\n",
        ", count the number of $y_j$ > $y_i$\n",
        " (concordant pairs (c)) and the number of $y_j$ < $y_i$\n",
        " (discordant pairs (d)).\n",
        "\n",
        "**Kendall correlation distance is defined as follow:**"
      ],
      "metadata": {
        "id": "xq86yDlAtCOx"
      }
    },
    {
      "cell_type": "markdown",
      "source": [
        "$$\n",
        "\\tau = \\frac{n_c - n_d}{\\frac{1}{2} n (n - 1)}\n",
        "$$\n"
      ],
      "metadata": {
        "id": "kpz_A6WVtlSB"
      }
    },
    {
      "cell_type": "markdown",
      "source": [
        "Where,\n",
        "*   $n_c$: total number of concordant pairs\n",
        "*   $n_d$: total number of discordant pairs\n",
        "*   n: size of x and y"
      ],
      "metadata": {
        "id": "aVMn2VRtt4Fh"
      }
    },
    {
      "cell_type": "markdown",
      "source": [
        "# **Starting: consider pearson correlation**"
      ],
      "metadata": {
        "id": "JzbZJBnluME8"
      }
    },
    {
      "cell_type": "markdown",
      "source": [
        "## Preleminary test to check the test assumptions"
      ],
      "metadata": {
        "id": "JFQyjpABuu26"
      }
    },
    {
      "cell_type": "markdown",
      "source": [
        "• Is the covariation linear?\n",
        "\n",
        "Visualization\n",
        "\n",
        "• Are the data from each of the 2 variables (x, y) follow a normal distribution?\n",
        "\n",
        "Use Shapiro-Wilk normality test –> R function: shapiro.test()\n",
        "\n",
        "• No outlier?\n",
        "\n",
        "Boxplot, Rosner Test"
      ],
      "metadata": {
        "id": "WDsQ5fiLu15x"
      }
    },
    {
      "cell_type": "markdown",
      "source": [
        "**1. Visualization by scatter plot**"
      ],
      "metadata": {
        "id": "xJv-c7Azy6Fc"
      }
    },
    {
      "cell_type": "code",
      "source": [
        "options(repr.plot.width=25, repr.plot.height=11)\n",
        "ggscatter(mtcars, x = \"mpg\", y = \"wt\",\n",
        "          add = \"reg.line\", conf.int = TRUE,\n",
        "          xlab = \"Miles/(US) gallon\", ylab = \"Weight (1000 lbs)\")+\n",
        "            theme(text = element_text(size = 20))"
      ],
      "metadata": {
        "colab": {
          "base_uri": "https://localhost:8080/",
          "height": 677
        },
        "id": "7-j17MHezLSE",
        "outputId": "771da713-fd9c-49f4-d3c9-1d0d10409092"
      },
      "execution_count": 22,
      "outputs": [
        {
          "output_type": "display_data",
          "data": {
            "text/plain": [
              "plot without title"
            ],
            "image/png": "[encoded data removed]"
          },
          "metadata": {
            "image/png": {
              "width": 1500,
              "height": 660
            }
          }
        }
      ]
    },
    {
      "cell_type": "markdown",
      "source": [
        "It is possible for linear fit."
      ],
      "metadata": {
        "id": "gU9_ZEzr0PIY"
      }
    },
    {
      "cell_type": "markdown",
      "source": [
        "**2.  The variables (x, y) follow a normal distribution?**"
      ],
      "metadata": {
        "id": "PXdEy7E70UAn"
      }
    },
    {
      "cell_type": "code",
      "source": [
        "shapiro.test(mtcars$mpg)"
      ],
      "metadata": {
        "colab": {
          "base_uri": "https://localhost:8080/",
          "height": 104
        },
        "id": "TZYQOylC0i7Q",
        "outputId": "12d8e9c1-cd55-4cef-8daf-acd3792d654c"
      },
      "execution_count": 20,
      "outputs": [
        {
          "output_type": "display_data",
          "data": {
            "text/plain": [
              "\n",
              "\tShapiro-Wilk normality test\n",
              "\n",
              "data:  mtcars$mpg\n",
              "W = 0.94756, p-value = 0.1229\n"
            ]
          },
          "metadata": {}
        }
      ]
    },
    {
      "cell_type": "markdown",
      "source": [
        "P value ⩾ 0.05 indicate normal distribution."
      ],
      "metadata": {
        "id": "E0IQ6GOG0uUu"
      }
    },
    {
      "cell_type": "code",
      "source": [
        "shapiro.test(mtcars$wt)"
      ],
      "metadata": {
        "colab": {
          "base_uri": "https://localhost:8080/",
          "height": 104
        },
        "id": "SIgBfeww1Pp2",
        "outputId": "4f7e2b12-24fd-4dbf-d3fc-90c5e7401b5c"
      },
      "execution_count": 23,
      "outputs": [
        {
          "output_type": "display_data",
          "data": {
            "text/plain": [
              "\n",
              "\tShapiro-Wilk normality test\n",
              "\n",
              "data:  mtcars$wt\n",
              "W = 0.94326, p-value = 0.09265\n"
            ]
          },
          "metadata": {}
        }
      ]
    },
    {
      "cell_type": "markdown",
      "source": [
        "P value ⩾ 0.05 indicate normal distribution."
      ],
      "metadata": {
        "id": "jDADPDwD1Vb2"
      }
    },
    {
      "cell_type": "markdown",
      "source": [
        "**3. No outlier?**"
      ],
      "metadata": {
        "id": "uSUdqO2u1WEO"
      }
    },
    {
      "cell_type": "markdown",
      "source": [
        "Boxplot"
      ],
      "metadata": {
        "id": "fGywwk1q12C0"
      }
    },
    {
      "cell_type": "code",
      "source": [
        "boxplot(mtcars$mpg,mtcars$wt)"
      ],
      "metadata": {
        "colab": {
          "base_uri": "https://localhost:8080/",
          "height": 697
        },
        "id": "moMcBNX7mYXf",
        "outputId": "ac288c77-e547-4ae4-a505-563f65a4ebef"
      },
      "execution_count": 24,
      "outputs": [
        {
          "output_type": "display_data",
          "data": {
            "text/plain": [
              "plot without title"
            ],
            "image/png": "[encoded data removed]"
          },
          "metadata": {
            "image/png": {
              "width": 1500,
              "height": 660
            }
          }
        }
      ]
    },
    {
      "cell_type": "markdown",
      "source": [
        "Rosner test"
      ],
      "metadata": {
        "id": "9_kuzjhS131G"
      }
    },
    {
      "cell_type": "code",
      "source": [
        "rosnerTest(mtcars$mpg)"
      ],
      "metadata": {
        "colab": {
          "base_uri": "https://localhost:8080/",
          "height": 537
        },
        "id": "GvWdHyRTxfSj",
        "outputId": "7fe7f768-4626-4543-c48b-5ae2c3fc93b0"
      },
      "execution_count": 25,
      "outputs": [
        {
          "output_type": "display_data",
          "data": {
            "text/plain": [
              "\n",
              "Results of Outlier Test\n",
              "-------------------------\n",
              "\n",
              "Test Method:                     Rosner's Test for Outliers\n",
              "\n",
              "Hypothesized Distribution:       Normal\n",
              "\n",
              "Data:                            mtcars$mpg\n",
              "\n",
              "Sample Size:                     32\n",
              "\n",
              "Test Statistics:                 R.1 = 2.291272\n",
              "                                 R.2 = 2.291827\n",
              "                                 R.3 = 2.182345\n",
              "\n",
              "Test Statistic Parameter:        k = 3\n",
              "\n",
              "Alternative Hypothesis:          Up to 3 observations are not\n",
              "                                 from the same Distribution.\n",
              "\n",
              "Type I Error:                    5%\n",
              "\n",
              "Number of Outliers Detected:     0\n",
              "\n",
              "  i   Mean.i     SD.i Value Obs.Num    R.i+1 lambda.i+1 Outlier\n",
              "1 0 20.09062 6.026948  33.9      20 2.291272   2.938048   FALSE\n",
              "2 1 19.64516 5.565359  32.4      18 2.291827   2.923571   FALSE\n",
              "3 2 19.22000 5.122930  30.4      19 2.182345   2.908473   FALSE\n",
              "\n"
            ]
          },
          "metadata": {}
        }
      ]
    },
    {
      "cell_type": "code",
      "source": [
        "rosnerTest(mtcars$wt)"
      ],
      "metadata": {
        "colab": {
          "base_uri": "https://localhost:8080/",
          "height": 537
        },
        "id": "5MzoaSP22Dhu",
        "outputId": "696ffa17-3032-4f0c-85ae-cc2cead570b0"
      },
      "execution_count": 26,
      "outputs": [
        {
          "output_type": "display_data",
          "data": {
            "text/plain": [
              "\n",
              "Results of Outlier Test\n",
              "-------------------------\n",
              "\n",
              "Test Method:                     Rosner's Test for Outliers\n",
              "\n",
              "Hypothesized Distribution:       Normal\n",
              "\n",
              "Data:                            mtcars$wt\n",
              "\n",
              "Sample Size:                     32\n",
              "\n",
              "Test Statistics:                 R.1 = 2.255336\n",
              "                                 R.2 = 2.425760\n",
              "                                 R.3 = 2.644617\n",
              "\n",
              "Test Statistic Parameter:        k = 3\n",
              "\n",
              "Alternative Hypothesis:          Up to 3 observations are not\n",
              "                                 from the same Distribution.\n",
              "\n",
              "Type I Error:                    5%\n",
              "\n",
              "Number of Outliers Detected:     0\n",
              "\n",
              "  i   Mean.i      SD.i Value Obs.Num    R.i+1 lambda.i+1 Outlier\n",
              "1 0 3.217250 0.9784574 5.424      16 2.255336   2.938048   FALSE\n",
              "2 1 3.146065 0.9064935 5.345      17 2.425760   2.923571   FALSE\n",
              "3 2 3.072767 0.8232698 5.250      15 2.644617   2.908473   FALSE\n",
              "\n"
            ]
          },
          "metadata": {}
        }
      ]
    },
    {
      "cell_type": "markdown",
      "source": [
        "**Hence, there is no outlier**"
      ],
      "metadata": {
        "id": "o3ffcxU22HEN"
      }
    },
    {
      "cell_type": "markdown",
      "source": [
        "What if there is an outlier? For example,"
      ],
      "metadata": {
        "id": "Fa1ywkQR2I4B"
      }
    },
    {
      "cell_type": "code",
      "source": [
        "rosnerTest(c(mtcars$mpg,200))"
      ],
      "metadata": {
        "colab": {
          "base_uri": "https://localhost:8080/",
          "height": 537
        },
        "id": "QQBPlvEeyi1V",
        "outputId": "6c4f4c77-6008-40f3-a1ca-2ea799339261"
      },
      "execution_count": 27,
      "outputs": [
        {
          "output_type": "display_data",
          "data": {
            "text/plain": [
              "\n",
              "Results of Outlier Test\n",
              "-------------------------\n",
              "\n",
              "Test Method:                     Rosner's Test for Outliers\n",
              "\n",
              "Hypothesized Distribution:       Normal\n",
              "\n",
              "Data:                            c(mtcars$mpg, 200)\n",
              "\n",
              "Sample Size:                     33\n",
              "\n",
              "Test Statistics:                 R.1 = 5.473170\n",
              "                                 R.2 = 2.291272\n",
              "                                 R.3 = 2.291827\n",
              "\n",
              "Test Statistic Parameter:        k = 3\n",
              "\n",
              "Alternative Hypothesis:          Up to 3 observations are not\n",
              "                                 from the same Distribution.\n",
              "\n",
              "Type I Error:                    5%\n",
              "\n",
              "Number of Outliers Detected:     1\n",
              "\n",
              "  i   Mean.i      SD.i Value Obs.Num    R.i+1 lambda.i+1 Outlier\n",
              "1 0 25.54242 31.875049 200.0      33 5.473170   2.951949    TRUE\n",
              "2 1 20.09062  6.026948  33.9      20 2.291272   2.938048   FALSE\n",
              "3 2 19.64516  5.565359  32.4      18 2.291827   2.923571   FALSE\n",
              "\n"
            ]
          },
          "metadata": {}
        }
      ]
    },
    {
      "cell_type": "markdown",
      "source": [
        "# **Pearson correlation test**"
      ],
      "metadata": {
        "id": "HNkE3I2U2j11"
      }
    },
    {
      "cell_type": "code",
      "source": [
        "cor.test(mtcars$mpg, mtcars$wt, method=c(\"pearson\"))"
      ],
      "metadata": {
        "colab": {
          "base_uri": "https://localhost:8080/",
          "height": 208
        },
        "id": "VNpeRbQn2urn",
        "outputId": "7d2cb6fc-148e-4168-dc01-6112a8823113"
      },
      "execution_count": 30,
      "outputs": [
        {
          "output_type": "display_data",
          "data": {
            "text/plain": [
              "\n",
              "\tPearson's product-moment correlation\n",
              "\n",
              "data:  mtcars$mpg and mtcars$wt\n",
              "t = -9.559, df = 30, p-value = 1.294e-10\n",
              "alternative hypothesis: true correlation is not equal to 0\n",
              "95 percent confidence interval:\n",
              " -0.9338264 -0.7440872\n",
              "sample estimates:\n",
              "       cor \n",
              "-0.8676594 \n"
            ]
          },
          "metadata": {}
        }
      ]
    },
    {
      "cell_type": "markdown",
      "source": [
        "# **Spearman and Kandall Rank correlation**"
      ],
      "metadata": {
        "id": "RdNLozbe3nVG"
      }
    },
    {
      "cell_type": "markdown",
      "source": [
        "Create a non parametric data"
      ],
      "metadata": {
        "id": "KPMfzTJ53uHt"
      }
    },
    {
      "cell_type": "code",
      "source": [
        "nonpar<- rbind(mtcars[,c(\"mpg\",\"wt\")],data.frame(mpg=200,wt=3))"
      ],
      "metadata": {
        "id": "zewRE6IK3zZu"
      },
      "execution_count": 31,
      "outputs": []
    },
    {
      "cell_type": "code",
      "source": [
        "shapiro.test(nonpar$mpg)"
      ],
      "metadata": {
        "colab": {
          "base_uri": "https://localhost:8080/",
          "height": 104
        },
        "id": "OMqhn2wZ4FKs",
        "outputId": "6054e7e9-f0a9-4c31-c91c-9279b7fee7f3"
      },
      "execution_count": 32,
      "outputs": [
        {
          "output_type": "display_data",
          "data": {
            "text/plain": [
              "\n",
              "\tShapiro-Wilk normality test\n",
              "\n",
              "data:  nonpar$mpg\n",
              "W = 0.32079, p-value = 3.108e-11\n"
            ]
          },
          "metadata": {}
        }
      ]
    },
    {
      "cell_type": "code",
      "source": [
        "ggscatter(nonpar, x = \"mpg\", y = \"wt\",\n",
        "          add = \"reg.line\", conf.int = TRUE,\n",
        "          xlab = \"Miles/(US) gallon\", ylab = \"Weight (1000 lbs)\")+\n",
        "            theme(text = element_text(size = 20))"
      ],
      "metadata": {
        "colab": {
          "base_uri": "https://localhost:8080/",
          "height": 677
        },
        "id": "Z_aHc0ys4P58",
        "outputId": "7c06b893-c75d-4763-b18a-5d56c37a9279"
      },
      "execution_count": 33,
      "outputs": [
        {
          "output_type": "display_data",
          "data": {
            "text/plain": [
              "plot without title"
            ],
            "image/png": "[encoded data removed]"
          },
          "metadata": {
            "image/png": {
              "width": 1500,
              "height": 660
            }
          }
        }
      ]
    },
    {
      "cell_type": "code",
      "source": [
        "cor.test(nonpar$mpg, nonpar$wt, method=c(\"spearman\"))"
      ],
      "metadata": {
        "colab": {
          "base_uri": "https://localhost:8080/",
          "height": 208
        },
        "id": "QeqK2eKX4anO",
        "outputId": "348d0026-8375-4123-a983-b432c19e5e3f"
      },
      "execution_count": 34,
      "outputs": [
        {
          "output_type": "stream",
          "name": "stderr",
          "text": [
            "Warning message in cor.test.default(nonpar$mpg, nonpar$wt, method = c(\"spearman\")):\n",
            "“Cannot compute exact p-value with ties”\n"
          ]
        },
        {
          "output_type": "display_data",
          "data": {
            "text/plain": [
              "\n",
              "\tSpearman's rank correlation rho\n",
              "\n",
              "data:  nonpar$mpg and nonpar$wt\n",
              "S = 11162, p-value = 8.151e-11\n",
              "alternative hypothesis: true rho is not equal to 0\n",
              "sample estimates:\n",
              "       rho \n",
              "-0.8653396 \n"
            ]
          },
          "metadata": {}
        }
      ]
    },
    {
      "cell_type": "code",
      "source": [
        "cor.test(nonpar$mpg, nonpar$wt, method=c(\"kendall\"))"
      ],
      "metadata": {
        "colab": {
          "base_uri": "https://localhost:8080/",
          "height": 208
        },
        "id": "6yo5yJbb4vq2",
        "outputId": "0b1f2a9f-e57c-4633-8bc7-060d7cbba497"
      },
      "execution_count": 35,
      "outputs": [
        {
          "output_type": "stream",
          "name": "stderr",
          "text": [
            "Warning message in cor.test.default(nonpar$mpg, nonpar$wt, method = c(\"kendall\")):\n",
            "“Cannot compute exact p-value with ties”\n"
          ]
        },
        {
          "output_type": "display_data",
          "data": {
            "text/plain": [
              "\n",
              "\tKendall's rank correlation tau\n",
              "\n",
              "data:  nonpar$mpg and nonpar$wt\n",
              "z = -5.6634, p-value = 1.484e-08\n",
              "alternative hypothesis: true tau is not equal to 0\n",
              "sample estimates:\n",
              "       tau \n",
              "-0.6985675 \n"
            ]
          },
          "metadata": {}
        }
      ]
    }
  ],
  "metadata": {
    "accelerator": "GPU",
    "colab": {
      "provenance": []
    },
    "gpuClass": "standard",
    "kernelspec": {
      "display_name": "R",
      "name": "ir"
    }
  },
  "nbformat": 4,
  "nbformat_minor": 0
}